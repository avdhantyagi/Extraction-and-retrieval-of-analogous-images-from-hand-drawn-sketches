{
 "cells": [
  {
   "cell_type": "code",
   "execution_count": 3,
   "id": "e143d010",
   "metadata": {},
   "outputs": [],
   "source": [
    "import os\n",
    "import shutil"
   ]
  },
  {
   "cell_type": "code",
   "execution_count": 10,
   "id": "98bc5f5e",
   "metadata": {},
   "outputs": [],
   "source": [
    "path_to_train = '/Users/avdhantyagi/DISK/notebook/imgmini/train/'\n",
    "for i in os.listdir(path_to_train):\n",
    "    if i == '.DS_Store':\n",
    "        continue\n",
    "    dir_in_tarin = path_to_train+i+'/'\n",
    "    for j in os.listdir(dir_in_tarin):\n",
    "        if i == '.DS_Store':\n",
    "            continue\n",
    "        shutil.move(dir_in_tarin + '/' + j, '/Users/avdhantyagi/DISK/notebook/Dataset/'+i+'/'+j)"
   ]
  },
  {
   "cell_type": "code",
   "execution_count": null,
   "id": "aa0bcf15",
   "metadata": {},
   "outputs": [],
   "source": []
  }
 ],
 "metadata": {
  "kernelspec": {
   "display_name": "Python 3 (ipykernel)",
   "language": "python",
   "name": "python3"
  },
  "language_info": {
   "codemirror_mode": {
    "name": "ipython",
    "version": 3
   },
   "file_extension": ".py",
   "mimetype": "text/x-python",
   "name": "python",
   "nbconvert_exporter": "python",
   "pygments_lexer": "ipython3",
   "version": "3.10.9"
  }
 },
 "nbformat": 4,
 "nbformat_minor": 5
}

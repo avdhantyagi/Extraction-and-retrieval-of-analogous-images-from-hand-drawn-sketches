{
 "cells": [
  {
   "cell_type": "code",
   "execution_count": 1,
   "id": "e143d010",
   "metadata": {},
   "outputs": [],
   "source": [
    "import os\n",
    "import shutil"
   ]
  },
  {
   "cell_type": "code",
   "execution_count": 33,
   "id": "98bc5f5e",
   "metadata": {},
   "outputs": [],
   "source": [
    "c = 0\n",
    "path_to_dataset = '/Users/avdhantyagi/DISK/notebook/RDataset/'\n",
    "for i in os.listdir(path_to_dataset):\n",
    "    if i[0] == '.':\n",
    "        continue\n",
    "    Sclass = path_to_dataset+i+'/'\n",
    "    for j in os.listdir(Sclass):\n",
    "        if j[0] == '.':\n",
    "            continue\n",
    "        folder = Sclass+j\n",
    "        if(j[-1]!='G'):\n",
    "            shutil.rmtree(folder)"
   ]
  },
  {
   "cell_type": "code",
   "execution_count": 2,
   "id": "aa0bcf15",
   "metadata": {},
   "outputs": [],
   "source": [
    "path_to_dataset = '/Users/avdhantyagi/DISK/notebook/RDataset/'\n",
    "for i in os.listdir(path_to_dataset):\n",
    "    if i[0] == '.':\n",
    "        continue\n",
    "    Sclass = path_to_dataset+i+'/'\n",
    "    for j in os.listdir(Sclass):\n",
    "        if j[0] == '.':\n",
    "            continue\n",
    "        folder = Sclass+j+\"/\"\n",
    "        for k in os.listdir(folder):\n",
    "            shutil.move(folder + k, Sclass+k)\n",
    "        shutil.rmtree(folder)"
   ]
  },
  {
   "cell_type": "code",
   "execution_count": null,
   "id": "f058d55c",
   "metadata": {},
   "outputs": [],
   "source": []
  }
 ],
 "metadata": {
  "kernelspec": {
   "display_name": "Python 3 (ipykernel)",
   "language": "python",
   "name": "python3"
  },
  "language_info": {
   "codemirror_mode": {
    "name": "ipython",
    "version": 3
   },
   "file_extension": ".py",
   "mimetype": "text/x-python",
   "name": "python",
   "nbconvert_exporter": "python",
   "pygments_lexer": "ipython3",
   "version": "3.10.9"
  }
 },
 "nbformat": 4,
 "nbformat_minor": 5
}

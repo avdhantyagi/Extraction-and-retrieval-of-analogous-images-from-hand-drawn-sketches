{
 "cells": [
  {
   "cell_type": "code",
   "execution_count": 25,
   "metadata": {},
   "outputs": [],
   "source": [
    "import pandas as pd"
   ]
  },
  {
   "cell_type": "code",
   "execution_count": 26,
   "metadata": {},
   "outputs": [],
   "source": [
    "data = pd.read_csv(\"./dataset2.csv\", names = ['path', 'class'])"
   ]
  },
  {
   "cell_type": "code",
   "execution_count": 27,
   "metadata": {},
   "outputs": [
    {
     "data": {
      "text/plain": [
       "'/Users/avdhantyagi/DISK/notebook/Dataset/Land/n02128385_12721.JPEG'"
      ]
     },
     "execution_count": 27,
     "metadata": {},
     "output_type": "execute_result"
    }
   ],
   "source": [
    "data['path'][0]"
   ]
  },
  {
   "cell_type": "code",
   "execution_count": 28,
   "metadata": {},
   "outputs": [
    {
     "data": {
      "text/plain": [
       "'static/Dataset/Land/n02128385_12721.JPEG'"
      ]
     },
     "execution_count": 28,
     "metadata": {},
     "output_type": "execute_result"
    }
   ],
   "source": [
    "a = \"/Users/avdhantyagi/DISK/notebook/Dataset/Land/n02128385_12721.JPEG\"\n",
    "a = \"static\"+a[32:]\n",
    "a"
   ]
  },
  {
   "cell_type": "code",
   "execution_count": 29,
   "metadata": {},
   "outputs": [],
   "source": [
    "for i in range(len(data['path'])):\n",
    "    data['path'][i] = \"./static\"+data['path'][i][32:]"
   ]
  },
  {
   "cell_type": "code",
   "execution_count": 30,
   "metadata": {},
   "outputs": [
    {
     "data": {
      "text/html": [
       "<div>\n",
       "<style scoped>\n",
       "    .dataframe tbody tr th:only-of-type {\n",
       "        vertical-align: middle;\n",
       "    }\n",
       "\n",
       "    .dataframe tbody tr th {\n",
       "        vertical-align: top;\n",
       "    }\n",
       "\n",
       "    .dataframe thead th {\n",
       "        text-align: right;\n",
       "    }\n",
       "</style>\n",
       "<table border=\"1\" class=\"dataframe\">\n",
       "  <thead>\n",
       "    <tr style=\"text-align: right;\">\n",
       "      <th></th>\n",
       "      <th>path</th>\n",
       "      <th>class</th>\n",
       "    </tr>\n",
       "  </thead>\n",
       "  <tbody>\n",
       "    <tr>\n",
       "      <th>0</th>\n",
       "      <td>./static/Dataset/Land/n02128385_12721.JPEG</td>\n",
       "      <td>Land</td>\n",
       "    </tr>\n",
       "    <tr>\n",
       "      <th>1</th>\n",
       "      <td>./static/Dataset/Land/n02490219_3650.JPEG</td>\n",
       "      <td>Land</td>\n",
       "    </tr>\n",
       "    <tr>\n",
       "      <th>2</th>\n",
       "      <td>./static/Dataset/Land/n02134084_1921.JPEG</td>\n",
       "      <td>Land</td>\n",
       "    </tr>\n",
       "    <tr>\n",
       "      <th>3</th>\n",
       "      <td>./static/Dataset/Land/n02115641_13264.JPEG</td>\n",
       "      <td>Land</td>\n",
       "    </tr>\n",
       "    <tr>\n",
       "      <th>4</th>\n",
       "      <td>./static/Dataset/Land/n02391049_356.JPEG</td>\n",
       "      <td>Land</td>\n",
       "    </tr>\n",
       "    <tr>\n",
       "      <th>...</th>\n",
       "      <td>...</td>\n",
       "      <td>...</td>\n",
       "    </tr>\n",
       "    <tr>\n",
       "      <th>28209</th>\n",
       "      <td>./static/Dataset/Land-small/n02095570_9195.JPEG</td>\n",
       "      <td>Land-small</td>\n",
       "    </tr>\n",
       "    <tr>\n",
       "      <th>28210</th>\n",
       "      <td>./static/Dataset/Land-small/n02099849_4275.JPEG</td>\n",
       "      <td>Land-small</td>\n",
       "    </tr>\n",
       "    <tr>\n",
       "      <th>28211</th>\n",
       "      <td>./static/Dataset/Land-small/n02093754_7060.JPEG</td>\n",
       "      <td>Land-small</td>\n",
       "    </tr>\n",
       "    <tr>\n",
       "      <th>28212</th>\n",
       "      <td>./static/Dataset/Land-small/n02096437_1104.JPEG</td>\n",
       "      <td>Land-small</td>\n",
       "    </tr>\n",
       "    <tr>\n",
       "      <th>28213</th>\n",
       "      <td>./static/Dataset/Land-small/ILSVRC2012_val_000...</td>\n",
       "      <td>Land-small</td>\n",
       "    </tr>\n",
       "  </tbody>\n",
       "</table>\n",
       "<p>28214 rows × 2 columns</p>\n",
       "</div>"
      ],
      "text/plain": [
       "                                                    path       class\n",
       "0             ./static/Dataset/Land/n02128385_12721.JPEG        Land\n",
       "1              ./static/Dataset/Land/n02490219_3650.JPEG        Land\n",
       "2              ./static/Dataset/Land/n02134084_1921.JPEG        Land\n",
       "3             ./static/Dataset/Land/n02115641_13264.JPEG        Land\n",
       "4               ./static/Dataset/Land/n02391049_356.JPEG        Land\n",
       "...                                                  ...         ...\n",
       "28209    ./static/Dataset/Land-small/n02095570_9195.JPEG  Land-small\n",
       "28210    ./static/Dataset/Land-small/n02099849_4275.JPEG  Land-small\n",
       "28211    ./static/Dataset/Land-small/n02093754_7060.JPEG  Land-small\n",
       "28212    ./static/Dataset/Land-small/n02096437_1104.JPEG  Land-small\n",
       "28213  ./static/Dataset/Land-small/ILSVRC2012_val_000...  Land-small\n",
       "\n",
       "[28214 rows x 2 columns]"
      ]
     },
     "execution_count": 30,
     "metadata": {},
     "output_type": "execute_result"
    }
   ],
   "source": [
    "data"
   ]
  },
  {
   "cell_type": "code",
   "execution_count": 31,
   "metadata": {},
   "outputs": [],
   "source": [
    "data.to_csv(\"dataset.csv\")"
   ]
  },
  {
   "cell_type": "code",
   "execution_count": null,
   "metadata": {},
   "outputs": [],
   "source": []
  }
 ],
 "metadata": {
  "kernelspec": {
   "display_name": "base",
   "language": "python",
   "name": "python3"
  },
  "language_info": {
   "codemirror_mode": {
    "name": "ipython",
    "version": 3
   },
   "file_extension": ".py",
   "mimetype": "text/x-python",
   "name": "python",
   "nbconvert_exporter": "python",
   "pygments_lexer": "ipython3",
   "version": "3.10.9"
  },
  "orig_nbformat": 4
 },
 "nbformat": 4,
 "nbformat_minor": 2
}

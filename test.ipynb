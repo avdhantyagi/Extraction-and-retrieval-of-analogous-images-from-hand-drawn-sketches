{
 "cells": [
  {
   "cell_type": "code",
   "execution_count": 1,
   "metadata": {},
   "outputs": [],
   "source": [
    "from PIL import Image\n",
    "\n",
    "def resize_image(image_path, output_size, image_name):\n",
    "    image = Image.open(image_path)\n",
    "    width, height = image.size\n",
    "    max_dim = max(width, height)\n",
    "    scale = output_size / max_dim\n",
    "    new_width = int(width * scale)\n",
    "    new_height = int(height * scale)\n",
    "    resized_image = image.resize((new_width, new_height))\n",
    "    output_image = Image.new('RGB', (output_size, output_size), 'black')\n",
    "    x = (output_size - new_width) // 2\n",
    "    y = (output_size - new_height) // 2\n",
    "\n",
    "\n",
    "    output_image.paste(resized_image, (x, y))\n",
    "    output_image.save(image_name)\n",
    "input_image_path = '/Users/avdhantyagi/DISK/notebook/DatasetR/Food/n07720875_1009.JPEG'\n",
    "output_size = 256\n",
    "\n",
    "resize_image(input_image_path, output_size, \"./ILSVRC2012_val_00001551.JPEG\")\n"
   ]
  },
  {
   "cell_type": "code",
   "execution_count": 2,
   "metadata": {},
   "outputs": [
    {
     "name": "stdout",
     "output_type": "stream",
     "text": [
      "Land\n",
      "Buildings\n",
      "Tools\n",
      "Store event\n",
      ".DS_Store\n",
      "Snails and shells\n",
      "Clo-occ\n",
      "Bath Baby\n",
      "Auto\n",
      "Flowers\n",
      "Prints\n",
      "Reptiles\n",
      "Nature\n",
      "Daily\n",
      "Sports\n",
      "Utilities\n",
      "Instruments\n",
      "Architecture\n",
      "Signs\n",
      "Vegetation\n",
      "Food\n",
      "Insects\n",
      "Birds\n",
      "Sea\n",
      "Fish\n",
      "Random Objects\n",
      "Land-small\n"
     ]
    }
   ],
   "source": [
    "import os\n",
    "ref = os.getcwd() + \"/DatasetR/\"\n",
    "for i in os.listdir(ref):\n",
    "    if i[0] == \".\":\n",
    "        continue\n",
    "    NClass = ref + \"/\" + i + \"/\"\n",
    "    for j in os.listdir(NClass):\n",
    "        if j[0] == \".\":\n",
    "            continue\n",
    "        resize_image(NClass + \"/\" + j, 256, \"/Users/avdhantyagi/DISK/notebook/Dataset/\" + i + \"/\" + j)\n",
    "\n",
    "        "
   ]
  },
  {
   "cell_type": "code",
   "execution_count": null,
   "metadata": {},
   "outputs": [],
   "source": []
  }
 ],
 "metadata": {
  "kernelspec": {
   "display_name": "base",
   "language": "python",
   "name": "python3"
  },
  "language_info": {
   "codemirror_mode": {
    "name": "ipython",
    "version": 3
   },
   "file_extension": ".py",
   "mimetype": "text/x-python",
   "name": "python",
   "nbconvert_exporter": "python",
   "pygments_lexer": "ipython3",
   "version": "3.10.9"
  },
  "orig_nbformat": 4
 },
 "nbformat": 4,
 "nbformat_minor": 2
}
